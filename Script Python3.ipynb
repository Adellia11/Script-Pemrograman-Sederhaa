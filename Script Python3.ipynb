{
 "cells": [
  {
   "cell_type": "code",
   "execution_count": 5,
   "metadata": {},
   "outputs": [
    {
     "name": "stdout",
     "output_type": "stream",
     "text": [
      "Nilai Mata Kuliah Fisika Dasar 1\n",
      "masukkan nilai QUIZ1:83\n",
      "masukkan nilai QUIZ2:80\n",
      "masukkan nilai PRAKTIKUM:90\n",
      "masukkan nilai ETS:74\n",
      "masukkan nilai UAS:78\n",
      "Nilai Akhir: 80.875\n",
      "Huruf Mutu : AB\n"
     ]
    }
   ],
   "source": [
    "print(\"Nilai Mata Kuliah Fisika Dasar 1\")\n",
    "QUIZ1 = int(input(\"masukkan nilai QUIZ1:\"))\n",
    "QUIZ2 = int(input(\"masukkan nilai QUIZ2:\"))\n",
    "PRAKTIKUM = int(input(\"masukkan nilai PRAKTIKUM:\"))\n",
    "ETS = int(input(\"masukkan nilai ETS:\"))\n",
    "EAS = int(input(\"masukkan nilai UAS:\"))\n",
    "\n",
    "nilai_akhir = 0.125*QUIZ1 + 0.125*QUIZ2 + 0.25*PRAKTIKUM + 0.25*ETS + 0.25*EAS\n",
    "print(\"Nilai Akhir:\", nilai_akhir)\n",
    "\n",
    "if nilai_akhir>=86 :\n",
    "    print(\"Huruf Mutu : A\")\n",
    "else:\n",
    "    if 76<nilai_akhir<86 :\n",
    "        print(\"Huruf Mutu : AB\")\n",
    "        \n",
    "    elif 66<nilai_akhir<76 :\n",
    "        print(\"Huruf Mutu : B\")\n",
    "    \n",
    "    elif 61<nilai_akhir<66 :\n",
    "        print(\"Huruf Mutu : BC\")\n",
    "    \n",
    "    elif 56<nilai_akhir<61 :\n",
    "        print(\"Huruf Mutu : C\")\n",
    "    \n",
    "    elif 41<nilai_akhir<56 :\n",
    "        print(\"Huruf Mutu : D\")\n",
    "    \n",
    "    elif 0<nilai_akhir<41 :\n",
    "        print(\"Huruf Mutu : E\")"
   ]
  }
 ],
 "metadata": {
  "kernelspec": {
   "display_name": "Python 3",
   "language": "python",
   "name": "python3"
  },
  "language_info": {
   "codemirror_mode": {
    "name": "ipython",
    "version": 3
   },
   "file_extension": ".py",
   "mimetype": "text/x-python",
   "name": "python",
   "nbconvert_exporter": "python",
   "pygments_lexer": "ipython3",
   "version": "3.7.4"
  }
 },
 "nbformat": 4,
 "nbformat_minor": 2
}
